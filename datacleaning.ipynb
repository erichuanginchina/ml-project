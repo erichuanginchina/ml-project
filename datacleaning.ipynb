{
 "cells": [
  {
   "cell_type": "code",
   "execution_count": 133,
   "metadata": {},
   "outputs": [],
   "source": [
    "import pandas as pd\n",
    "import numpy as np"
   ]
  },
  {
   "cell_type": "code",
   "execution_count": 134,
   "metadata": {},
   "outputs": [
    {
     "output_type": "execute_result",
     "data": {
      "text/plain": "(12773, 14)"
     },
     "metadata": {},
     "execution_count": 134
    },
    {
     "output_type": "execute_result",
     "data": {
      "text/plain": "            userid                                               post  \\\n0  aguitarplayer94  Q: what&#039;s your favorite song? :D<br>A: I ...   \n1      aprilpooh15                     Q: <3<br>A: </3 ? haha jk! <33   \n2      aprilpooh15  Q: &quot;hey angel  you duh sexy&quot;<br>A: R...   \n3      aprilpooh15                                     Q: (:<br>A: ;(   \n4      aprilpooh15  Q: ******************MEOWWW*******************...   \n\n                                                ques  \\\n0             what&#039;s your favorite song? :D<br>   \n1                                                 <3   \n2                &quot;hey angel  you duh sexy&quot;   \n3                                                 (:   \n4  ******************MEOWWW*************************   \n\n                                         ans asker ans1 severity1 bully1 ans2  \\\n0   I like too many songs to have a favorite  None   No         0    NaN   No   \n1                         </3 ? haha jk! <33  None   No         0    NaN   No   \n2                   Really?!?! Thanks?! haha  None   No         0    NaN   No   \n3                                         ;(  None   No         0    NaN   No   \n4                                    *RAWR*?  None   No         0    NaN   No   \n\n  severity2 bully2 ans3 severity3 bully3  \n0         0    NaN   No         0    NaN  \n1         0    NaN   No         0    NaN  \n2         0    NaN   No         0    NaN  \n3         0    NaN   No         0    NaN  \n4         0    NaN   No         0    NaN  ",
      "text/html": "<div>\n<style scoped>\n    .dataframe tbody tr th:only-of-type {\n        vertical-align: middle;\n    }\n\n    .dataframe tbody tr th {\n        vertical-align: top;\n    }\n\n    .dataframe thead th {\n        text-align: right;\n    }\n</style>\n<table border=\"1\" class=\"dataframe\">\n  <thead>\n    <tr style=\"text-align: right;\">\n      <th></th>\n      <th>userid</th>\n      <th>post</th>\n      <th>ques</th>\n      <th>ans</th>\n      <th>asker</th>\n      <th>ans1</th>\n      <th>severity1</th>\n      <th>bully1</th>\n      <th>ans2</th>\n      <th>severity2</th>\n      <th>bully2</th>\n      <th>ans3</th>\n      <th>severity3</th>\n      <th>bully3</th>\n    </tr>\n  </thead>\n  <tbody>\n    <tr>\n      <td>0</td>\n      <td>aguitarplayer94</td>\n      <td>Q: what&amp;#039;s your favorite song? :D&lt;br&gt;A: I ...</td>\n      <td>what&amp;#039;s your favorite song? :D&lt;br&gt;</td>\n      <td>I like too many songs to have a favorite</td>\n      <td>None</td>\n      <td>No</td>\n      <td>0</td>\n      <td>NaN</td>\n      <td>No</td>\n      <td>0</td>\n      <td>NaN</td>\n      <td>No</td>\n      <td>0</td>\n      <td>NaN</td>\n    </tr>\n    <tr>\n      <td>1</td>\n      <td>aprilpooh15</td>\n      <td>Q: &lt;3&lt;br&gt;A: &lt;/3 ? haha jk! &lt;33</td>\n      <td>&lt;3</td>\n      <td>&lt;/3 ? haha jk! &lt;33</td>\n      <td>None</td>\n      <td>No</td>\n      <td>0</td>\n      <td>NaN</td>\n      <td>No</td>\n      <td>0</td>\n      <td>NaN</td>\n      <td>No</td>\n      <td>0</td>\n      <td>NaN</td>\n    </tr>\n    <tr>\n      <td>2</td>\n      <td>aprilpooh15</td>\n      <td>Q: &amp;quot;hey angel  you duh sexy&amp;quot;&lt;br&gt;A: R...</td>\n      <td>&amp;quot;hey angel  you duh sexy&amp;quot;</td>\n      <td>Really?!?! Thanks?! haha</td>\n      <td>None</td>\n      <td>No</td>\n      <td>0</td>\n      <td>NaN</td>\n      <td>No</td>\n      <td>0</td>\n      <td>NaN</td>\n      <td>No</td>\n      <td>0</td>\n      <td>NaN</td>\n    </tr>\n    <tr>\n      <td>3</td>\n      <td>aprilpooh15</td>\n      <td>Q: (:&lt;br&gt;A: ;(</td>\n      <td>(:</td>\n      <td>;(</td>\n      <td>None</td>\n      <td>No</td>\n      <td>0</td>\n      <td>NaN</td>\n      <td>No</td>\n      <td>0</td>\n      <td>NaN</td>\n      <td>No</td>\n      <td>0</td>\n      <td>NaN</td>\n    </tr>\n    <tr>\n      <td>4</td>\n      <td>aprilpooh15</td>\n      <td>Q: ******************MEOWWW*******************...</td>\n      <td>******************MEOWWW*************************</td>\n      <td>*RAWR*?</td>\n      <td>None</td>\n      <td>No</td>\n      <td>0</td>\n      <td>NaN</td>\n      <td>No</td>\n      <td>0</td>\n      <td>NaN</td>\n      <td>No</td>\n      <td>0</td>\n      <td>NaN</td>\n    </tr>\n  </tbody>\n</table>\n</div>"
     },
     "metadata": {},
     "execution_count": 134
    }
   ],
   "source": [
    "df = pd.read_csv('formspring_data.csv', delimiter='\\t')\n",
    "df.shape\n",
    "df.head()"
   ]
  },
  {
   "cell_type": "code",
   "execution_count": 135,
   "metadata": {},
   "outputs": [
    {
     "output_type": "execute_result",
     "data": {
      "text/plain": "            userid                                               post  \\\n0  aguitarplayer94  Q: what&#039;s your favorite song? :D<br>A: I ...   \n1      aprilpooh15                     Q: <3<br>A: </3 ? haha jk! <33   \n2      aprilpooh15  Q: &quot;hey angel  you duh sexy&quot;<br>A: R...   \n3      aprilpooh15                                     Q: (:<br>A: ;(   \n4      aprilpooh15  Q: ******************MEOWWW*******************...   \n\n                                                ques  \\\n0             what&#039;s your favorite song? :D<br>   \n1                                                 <3   \n2                &quot;hey angel  you duh sexy&quot;   \n3                                                 (:   \n4  ******************MEOWWW*************************   \n\n                                         ans asker  ans1  severity1 bully1  \\\n0   I like too many songs to have a favorite  None     0          0    NaN   \n1                         </3 ? haha jk! <33  None     0          0    NaN   \n2                   Really?!?! Thanks?! haha  None     0          0    NaN   \n3                                         ;(  None     0          0    NaN   \n4                                    *RAWR*?  None     0          0    NaN   \n\n   ans2  severity2 bully2  ans3  severity3 bully3  \n0     0          0    NaN     0          0    NaN  \n1     0          0    NaN     0          0    NaN  \n2     0          0    NaN     0          0    NaN  \n3     0          0    NaN     0          0    NaN  \n4     0          0    NaN     0          0    NaN  ",
      "text/html": "<div>\n<style scoped>\n    .dataframe tbody tr th:only-of-type {\n        vertical-align: middle;\n    }\n\n    .dataframe tbody tr th {\n        vertical-align: top;\n    }\n\n    .dataframe thead th {\n        text-align: right;\n    }\n</style>\n<table border=\"1\" class=\"dataframe\">\n  <thead>\n    <tr style=\"text-align: right;\">\n      <th></th>\n      <th>userid</th>\n      <th>post</th>\n      <th>ques</th>\n      <th>ans</th>\n      <th>asker</th>\n      <th>ans1</th>\n      <th>severity1</th>\n      <th>bully1</th>\n      <th>ans2</th>\n      <th>severity2</th>\n      <th>bully2</th>\n      <th>ans3</th>\n      <th>severity3</th>\n      <th>bully3</th>\n    </tr>\n  </thead>\n  <tbody>\n    <tr>\n      <td>0</td>\n      <td>aguitarplayer94</td>\n      <td>Q: what&amp;#039;s your favorite song? :D&lt;br&gt;A: I ...</td>\n      <td>what&amp;#039;s your favorite song? :D&lt;br&gt;</td>\n      <td>I like too many songs to have a favorite</td>\n      <td>None</td>\n      <td>0</td>\n      <td>0</td>\n      <td>NaN</td>\n      <td>0</td>\n      <td>0</td>\n      <td>NaN</td>\n      <td>0</td>\n      <td>0</td>\n      <td>NaN</td>\n    </tr>\n    <tr>\n      <td>1</td>\n      <td>aprilpooh15</td>\n      <td>Q: &lt;3&lt;br&gt;A: &lt;/3 ? haha jk! &lt;33</td>\n      <td>&lt;3</td>\n      <td>&lt;/3 ? haha jk! &lt;33</td>\n      <td>None</td>\n      <td>0</td>\n      <td>0</td>\n      <td>NaN</td>\n      <td>0</td>\n      <td>0</td>\n      <td>NaN</td>\n      <td>0</td>\n      <td>0</td>\n      <td>NaN</td>\n    </tr>\n    <tr>\n      <td>2</td>\n      <td>aprilpooh15</td>\n      <td>Q: &amp;quot;hey angel  you duh sexy&amp;quot;&lt;br&gt;A: R...</td>\n      <td>&amp;quot;hey angel  you duh sexy&amp;quot;</td>\n      <td>Really?!?! Thanks?! haha</td>\n      <td>None</td>\n      <td>0</td>\n      <td>0</td>\n      <td>NaN</td>\n      <td>0</td>\n      <td>0</td>\n      <td>NaN</td>\n      <td>0</td>\n      <td>0</td>\n      <td>NaN</td>\n    </tr>\n    <tr>\n      <td>3</td>\n      <td>aprilpooh15</td>\n      <td>Q: (:&lt;br&gt;A: ;(</td>\n      <td>(:</td>\n      <td>;(</td>\n      <td>None</td>\n      <td>0</td>\n      <td>0</td>\n      <td>NaN</td>\n      <td>0</td>\n      <td>0</td>\n      <td>NaN</td>\n      <td>0</td>\n      <td>0</td>\n      <td>NaN</td>\n    </tr>\n    <tr>\n      <td>4</td>\n      <td>aprilpooh15</td>\n      <td>Q: ******************MEOWWW*******************...</td>\n      <td>******************MEOWWW*************************</td>\n      <td>*RAWR*?</td>\n      <td>None</td>\n      <td>0</td>\n      <td>0</td>\n      <td>NaN</td>\n      <td>0</td>\n      <td>0</td>\n      <td>NaN</td>\n      <td>0</td>\n      <td>0</td>\n      <td>NaN</td>\n    </tr>\n  </tbody>\n</table>\n</div>"
     },
     "metadata": {},
     "execution_count": 135
    }
   ],
   "source": [
    "# copy df_num from original data\n",
    "df_num = df.copy()\n",
    "# remove na where col names:\n",
    "col_name = ['post', 'ques', 'ans']\n",
    "df_num = df_num.dropna(subset=col_name, how='any')\n",
    "# replace str with int\n",
    "df_num = df_num.replace({'ans1': {'Yes': 1, 'No': 0, np.nan: 0}, 'ans2': {'Yes': 1, 'No': 0, np.nan: 0}, 'ans3': {'Yes': 1, 'No': 0, np.nan: 0}})\n",
    "df_num = df_num.replace({'bully1': {None: np.nan, 'None': np.nan}, 'bully2': {None: np.nan, 'None': np.nan}, 'bully3': {None: np.nan, 'None': np.nan}})\n",
    "df_num = df_num.replace({'severity1': {'`0':0, '0`':0, 'o':0, 'n/a0': 0, 'N/a': 0, 'n/a0': 0, 'None': 0, np.nan: 0}, 'severity2': {'`0':0, '0`':0, 'o':0, 'n/a0': 0, 'N/a': 0, 'n/a0': 0, 'None': 0, np.nan: 0}, 'severity3': {'`0':0, '0`':0, 'o':0, 'n/a0': 0, 'N/a': 0, 'n/a0': 0, 'None': 0, np.nan: 0}})\n",
    "# severity as int\n",
    "df_num = df_num.astype({'severity1': 'int', 'severity2': 'int', 'severity3': 'int'})\n",
    "# reset the index\n",
    "# ind = np.where(((df_num.ans1 == df_num.ans2) & (df_num.ans2 == df_num.ans3) & (df_num.ans3 == df_num.ans1)))[0]\n",
    "# ind = (df.ans1 == df.ans2) & (df.ans2 == df.ans3) & (df.ans1 == df.ans3)\n",
    "# df_num = df_num[ind]\n",
    "df_num = df_num.reset_index(drop=True)\n",
    "df_num.head()"
   ]
  },
  {
   "cell_type": "code",
   "execution_count": 136,
   "metadata": {},
   "outputs": [],
   "source": [
    "# overall score & severity\n",
    "df_num['overall_ans'] = df_num.ans1 + df_num.ans2 + df_num.ans3\n",
    "# df_num['overall_ans'] = df_num.ans1 + df_num.ans2 + df_num.ans3 - 1 # two agrees upon\n",
    "df_num['overall_ans'][df_num.overall_ans > 1] = 1\n",
    "df_num['overall_severity'] = (df_num['severity1'] + df_num['severity2'] + df_num['severity3'])/3"
   ]
  },
  {
   "cell_type": "code",
   "execution_count": 137,
   "metadata": {},
   "outputs": [
    {
     "output_type": "execute_result",
     "data": {
      "text/plain": "0.15155075187969924"
     },
     "metadata": {},
     "execution_count": 137
    }
   ],
   "source": [
    "# percentage of positive observation (bullying content)\n",
    "sum(df_num.overall_ans == 1)/len(df_num)"
   ]
  },
  {
   "cell_type": "code",
   "execution_count": 138,
   "metadata": {},
   "outputs": [],
   "source": [
    "# write to new dataset\n",
    "df_num.to_csv('clean_formspring.csv')"
   ]
  },
  {
   "cell_type": "markdown",
   "metadata": {},
   "source": [
    "<h4>Summary of dataset:</h4>\n",
    "<ul>\n",
    "<li>Percentage of positive variable over all data is 15%</li>\n",
    "</ul>"
   ]
  }
 ],
 "metadata": {
  "kernelspec": {
   "display_name": "Python 3.7.4 64-bit ('base': conda)",
   "language": "python",
   "name": "python37464bitbasecondac6f0cecc5cc04bfb92becad58e4c0a6a"
  },
  "language_info": {
   "codemirror_mode": {
    "name": "ipython",
    "version": 3
   },
   "file_extension": ".py",
   "mimetype": "text/x-python",
   "name": "python",
   "nbconvert_exporter": "python",
   "pygments_lexer": "ipython3",
   "version": "3.7.4-final"
  }
 },
 "nbformat": 4,
 "nbformat_minor": 2
}