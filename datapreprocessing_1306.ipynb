{
 "cells": [
  {
   "cell_type": "code",
   "execution_count": 8,
   "metadata": {},
   "outputs": [],
   "source": [
    "import pandas as pd\n",
    "import numpy as np"
   ]
  },
  {
   "cell_type": "code",
   "execution_count": 9,
   "metadata": {},
   "outputs": [
    {
     "output_type": "execute_result",
     "data": {
      "text/plain": "   Unnamed: 0           userid  \\\n0           0  aguitarplayer94   \n1           1      aprilpooh15   \n2           2      aprilpooh15   \n3           3      aprilpooh15   \n4           4      aprilpooh15   \n\n                                                post  \\\n0  Q: what&#039;s your favorite song? :D<br>A: I ...   \n1                     Q: <3<br>A: </3 ? haha jk! <33   \n2  Q: &quot;hey angel  you duh sexy&quot;<br>A: R...   \n3                                     Q: (:<br>A: ;(   \n4  Q: ******************MEOWWW*******************...   \n\n                                                ques  \\\n0             what&#039;s your favorite song? :D<br>   \n1                                                 <3   \n2                &quot;hey angel  you duh sexy&quot;   \n3                                                 (:   \n4  ******************MEOWWW*************************   \n\n                                         ans asker  ans1  severity1 bully1  \\\n0   I like too many songs to have a favorite  None     0          0    NaN   \n1                         </3 ? haha jk! <33  None     0          0    NaN   \n2                   Really?!?! Thanks?! haha  None     0          0    NaN   \n3                                         ;(  None     0          0    NaN   \n4                                    *RAWR*?  None     0          0    NaN   \n\n   ans2  severity2 bully2  ans3  severity3 bully3  overall_ans  \\\n0     0          0    NaN     0          0    NaN            0   \n1     0          0    NaN     0          0    NaN            0   \n2     0          0    NaN     0          0    NaN            0   \n3     0          0    NaN     0          0    NaN            0   \n4     0          0    NaN     0          0    NaN            0   \n\n   overall_severity  \n0               0.0  \n1               0.0  \n2               0.0  \n3               0.0  \n4               0.0  ",
      "text/html": "<div>\n<style scoped>\n    .dataframe tbody tr th:only-of-type {\n        vertical-align: middle;\n    }\n\n    .dataframe tbody tr th {\n        vertical-align: top;\n    }\n\n    .dataframe thead th {\n        text-align: right;\n    }\n</style>\n<table border=\"1\" class=\"dataframe\">\n  <thead>\n    <tr style=\"text-align: right;\">\n      <th></th>\n      <th>Unnamed: 0</th>\n      <th>userid</th>\n      <th>post</th>\n      <th>ques</th>\n      <th>ans</th>\n      <th>asker</th>\n      <th>ans1</th>\n      <th>severity1</th>\n      <th>bully1</th>\n      <th>ans2</th>\n      <th>severity2</th>\n      <th>bully2</th>\n      <th>ans3</th>\n      <th>severity3</th>\n      <th>bully3</th>\n      <th>overall_ans</th>\n      <th>overall_severity</th>\n    </tr>\n  </thead>\n  <tbody>\n    <tr>\n      <td>0</td>\n      <td>0</td>\n      <td>aguitarplayer94</td>\n      <td>Q: what&amp;#039;s your favorite song? :D&lt;br&gt;A: I ...</td>\n      <td>what&amp;#039;s your favorite song? :D&lt;br&gt;</td>\n      <td>I like too many songs to have a favorite</td>\n      <td>None</td>\n      <td>0</td>\n      <td>0</td>\n      <td>NaN</td>\n      <td>0</td>\n      <td>0</td>\n      <td>NaN</td>\n      <td>0</td>\n      <td>0</td>\n      <td>NaN</td>\n      <td>0</td>\n      <td>0.0</td>\n    </tr>\n    <tr>\n      <td>1</td>\n      <td>1</td>\n      <td>aprilpooh15</td>\n      <td>Q: &lt;3&lt;br&gt;A: &lt;/3 ? haha jk! &lt;33</td>\n      <td>&lt;3</td>\n      <td>&lt;/3 ? haha jk! &lt;33</td>\n      <td>None</td>\n      <td>0</td>\n      <td>0</td>\n      <td>NaN</td>\n      <td>0</td>\n      <td>0</td>\n      <td>NaN</td>\n      <td>0</td>\n      <td>0</td>\n      <td>NaN</td>\n      <td>0</td>\n      <td>0.0</td>\n    </tr>\n    <tr>\n      <td>2</td>\n      <td>2</td>\n      <td>aprilpooh15</td>\n      <td>Q: &amp;quot;hey angel  you duh sexy&amp;quot;&lt;br&gt;A: R...</td>\n      <td>&amp;quot;hey angel  you duh sexy&amp;quot;</td>\n      <td>Really?!?! Thanks?! haha</td>\n      <td>None</td>\n      <td>0</td>\n      <td>0</td>\n      <td>NaN</td>\n      <td>0</td>\n      <td>0</td>\n      <td>NaN</td>\n      <td>0</td>\n      <td>0</td>\n      <td>NaN</td>\n      <td>0</td>\n      <td>0.0</td>\n    </tr>\n    <tr>\n      <td>3</td>\n      <td>3</td>\n      <td>aprilpooh15</td>\n      <td>Q: (:&lt;br&gt;A: ;(</td>\n      <td>(:</td>\n      <td>;(</td>\n      <td>None</td>\n      <td>0</td>\n      <td>0</td>\n      <td>NaN</td>\n      <td>0</td>\n      <td>0</td>\n      <td>NaN</td>\n      <td>0</td>\n      <td>0</td>\n      <td>NaN</td>\n      <td>0</td>\n      <td>0.0</td>\n    </tr>\n    <tr>\n      <td>4</td>\n      <td>4</td>\n      <td>aprilpooh15</td>\n      <td>Q: ******************MEOWWW*******************...</td>\n      <td>******************MEOWWW*************************</td>\n      <td>*RAWR*?</td>\n      <td>None</td>\n      <td>0</td>\n      <td>0</td>\n      <td>NaN</td>\n      <td>0</td>\n      <td>0</td>\n      <td>NaN</td>\n      <td>0</td>\n      <td>0</td>\n      <td>NaN</td>\n      <td>0</td>\n      <td>0.0</td>\n    </tr>\n  </tbody>\n</table>\n</div>"
     },
     "metadata": {},
     "execution_count": 9
    }
   ],
   "source": [
    "df = pd.read_csv('dataset/clean_formspring_1306.csv')\n",
    "df.head()"
   ]
  },
  {
   "cell_type": "code",
   "execution_count": 10,
   "metadata": {},
   "outputs": [
    {
     "output_type": "execute_result",
     "data": {
      "text/plain": "                                                post bully1 bully2 bully3  \\\n0  Q: what&#039;s your favorite song? :D<br>A: I ...    NaN    NaN    NaN   \n1                     Q: <3<br>A: </3 ? haha jk! <33    NaN    NaN    NaN   \n2  Q: &quot;hey angel  you duh sexy&quot;<br>A: R...    NaN    NaN    NaN   \n3                                     Q: (:<br>A: ;(    NaN    NaN    NaN   \n4  Q: ******************MEOWWW*******************...    NaN    NaN    NaN   \n\n   overall_ans  overall_severity  \n0            0               0.0  \n1            0               0.0  \n2            0               0.0  \n3            0               0.0  \n4            0               0.0  ",
      "text/html": "<div>\n<style scoped>\n    .dataframe tbody tr th:only-of-type {\n        vertical-align: middle;\n    }\n\n    .dataframe tbody tr th {\n        vertical-align: top;\n    }\n\n    .dataframe thead th {\n        text-align: right;\n    }\n</style>\n<table border=\"1\" class=\"dataframe\">\n  <thead>\n    <tr style=\"text-align: right;\">\n      <th></th>\n      <th>post</th>\n      <th>bully1</th>\n      <th>bully2</th>\n      <th>bully3</th>\n      <th>overall_ans</th>\n      <th>overall_severity</th>\n    </tr>\n  </thead>\n  <tbody>\n    <tr>\n      <td>0</td>\n      <td>Q: what&amp;#039;s your favorite song? :D&lt;br&gt;A: I ...</td>\n      <td>NaN</td>\n      <td>NaN</td>\n      <td>NaN</td>\n      <td>0</td>\n      <td>0.0</td>\n    </tr>\n    <tr>\n      <td>1</td>\n      <td>Q: &lt;3&lt;br&gt;A: &lt;/3 ? haha jk! &lt;33</td>\n      <td>NaN</td>\n      <td>NaN</td>\n      <td>NaN</td>\n      <td>0</td>\n      <td>0.0</td>\n    </tr>\n    <tr>\n      <td>2</td>\n      <td>Q: &amp;quot;hey angel  you duh sexy&amp;quot;&lt;br&gt;A: R...</td>\n      <td>NaN</td>\n      <td>NaN</td>\n      <td>NaN</td>\n      <td>0</td>\n      <td>0.0</td>\n    </tr>\n    <tr>\n      <td>3</td>\n      <td>Q: (:&lt;br&gt;A: ;(</td>\n      <td>NaN</td>\n      <td>NaN</td>\n      <td>NaN</td>\n      <td>0</td>\n      <td>0.0</td>\n    </tr>\n    <tr>\n      <td>4</td>\n      <td>Q: ******************MEOWWW*******************...</td>\n      <td>NaN</td>\n      <td>NaN</td>\n      <td>NaN</td>\n      <td>0</td>\n      <td>0.0</td>\n    </tr>\n  </tbody>\n</table>\n</div>"
     },
     "metadata": {},
     "execution_count": 10
    }
   ],
   "source": [
    "df_new = df[['post', 'bully1' , 'bully2', 'bully3', 'overall_ans', 'overall_severity']]\n",
    "df_new.head()"
   ]
  },
  {
   "cell_type": "code",
   "execution_count": 11,
   "metadata": {},
   "outputs": [
    {
     "output_type": "execute_result",
     "data": {
      "text/plain": "   overall_ans  overall_severity  \\\n0            0               0.0   \n1            0               0.0   \n2            0               0.0   \n3            0               0.0   \n4            0               0.0   \n\n                                                   X  \n0  Q: what&#039;s your favorite song? :D<br>A: I ...  \n1                     Q: <3<br>A: </3 ? haha jk! <33  \n2  Q: &quot;hey angel  you duh sexy&quot;<br>A: R...  \n3                                     Q: (:<br>A: ;(  \n4  Q: ******************MEOWWW*******************...  ",
      "text/html": "<div>\n<style scoped>\n    .dataframe tbody tr th:only-of-type {\n        vertical-align: middle;\n    }\n\n    .dataframe tbody tr th {\n        vertical-align: top;\n    }\n\n    .dataframe thead th {\n        text-align: right;\n    }\n</style>\n<table border=\"1\" class=\"dataframe\">\n  <thead>\n    <tr style=\"text-align: right;\">\n      <th></th>\n      <th>overall_ans</th>\n      <th>overall_severity</th>\n      <th>X</th>\n    </tr>\n  </thead>\n  <tbody>\n    <tr>\n      <td>0</td>\n      <td>0</td>\n      <td>0.0</td>\n      <td>Q: what&amp;#039;s your favorite song? :D&lt;br&gt;A: I ...</td>\n    </tr>\n    <tr>\n      <td>1</td>\n      <td>0</td>\n      <td>0.0</td>\n      <td>Q: &lt;3&lt;br&gt;A: &lt;/3 ? haha jk! &lt;33</td>\n    </tr>\n    <tr>\n      <td>2</td>\n      <td>0</td>\n      <td>0.0</td>\n      <td>Q: &amp;quot;hey angel  you duh sexy&amp;quot;&lt;br&gt;A: R...</td>\n    </tr>\n    <tr>\n      <td>3</td>\n      <td>0</td>\n      <td>0.0</td>\n      <td>Q: (:&lt;br&gt;A: ;(</td>\n    </tr>\n    <tr>\n      <td>4</td>\n      <td>0</td>\n      <td>0.0</td>\n      <td>Q: ******************MEOWWW*******************...</td>\n    </tr>\n  </tbody>\n</table>\n</div>"
     },
     "metadata": {},
     "execution_count": 11
    }
   ],
   "source": [
    "nobully_ind = np.where(df_new.bully1.isna() & df_new.bully2.isna() & df_new.bully3.isna())[0]\n",
    "df_new['bully1'][np.where(df_new.bully1.isna())[0]] = \"\"\n",
    "df_new['bully2'][np.where(df_new.bully2.isna())[0]] = \"\"\n",
    "df_new['bully3'][np.where(df_new.bully3.isna())[0]] = \"\"\n",
    "df_new['X'] = df_new['bully1']+df_new['bully2']+df_new['bully3']\n",
    "df_new['X'][nobully_ind] = df_new.post.values[nobully_ind]\n",
    "df_new = df_new.drop(columns=['bully1', 'bully2', 'bully3', 'post'])\n",
    "df_new.head()"
   ]
  },
  {
   "cell_type": "code",
   "execution_count": 12,
   "metadata": {},
   "outputs": [],
   "source": [
    "df_new.to_csv('dataset/formspring_1306.csv')"
   ]
  }
 ],
 "metadata": {
  "language_info": {
   "codemirror_mode": {
    "name": "ipython",
    "version": 3
   },
   "file_extension": ".py",
   "mimetype": "text/x-python",
   "name": "python",
   "nbconvert_exporter": "python",
   "pygments_lexer": "ipython3",
   "version": "3.7.4-final"
  },
  "orig_nbformat": 2,
  "kernelspec": {
   "name": "python37464bitbasecondac6f0cecc5cc04bfb92becad58e4c0a6a",
   "display_name": "Python 3.7.4 64-bit ('base': conda)"
  }
 },
 "nbformat": 4,
 "nbformat_minor": 2
}